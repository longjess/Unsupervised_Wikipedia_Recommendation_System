{
 "cells": [
  {
   "cell_type": "code",
   "execution_count": 377,
   "metadata": {},
   "outputs": [],
   "source": [
    "import numpy as np \n",
    "import pandas as pd\n",
    "import os\n",
    "import matplotlib.pyplot as plt\n",
    "import ast\n",
    "import re\n",
    "import string \n",
    "import scipy"
   ]
  },
  {
   "cell_type": "code",
   "execution_count": 378,
   "metadata": {},
   "outputs": [],
   "source": [
    "# Read file according to .txt format\n",
    "\n",
    "def read_file(filename):\n",
    "    file_dict = {}\n",
    "    file = open(filename, 'r')\n",
    "    lines = file.readlines()\n",
    "    for line in lines:\n",
    "        line = line.strip().split(\"|\")\n",
    "        key = line[0]\n",
    "        line_dict = ast.literal_eval(\"{\"+line[1]+\"}\")\n",
    "        file_dict[key] = line_dict\n",
    "    return(file_dict)\n",
    "\n",
    "cluster0_dict = read_file('cluster0.txt')\n",
    "tfidf_dict = read_file('tfidf.txt')"
   ]
  },
  {
   "cell_type": "code",
   "execution_count": 379,
   "metadata": {},
   "outputs": [],
   "source": [
    "# Read dictionary, which has different format\n",
    "\n",
    "def read_file2(filename):\n",
    "    file_dict = {}\n",
    "    file = open(filename, 'r')\n",
    "    lines = file.readlines()\n",
    "    for line in lines:\n",
    "        line = line.split()\n",
    "        file_dict[int(line[1])] = line[0]\n",
    "    return(file_dict)\n",
    "\n",
    "dictionary = read_file2('dictionary.txt')"
   ]
  },
  {
   "cell_type": "code",
   "execution_count": 380,
   "metadata": {},
   "outputs": [
    {
     "name": "stdout",
     "output_type": "stream",
     "text": [
      "15902\n"
     ]
    }
   ],
   "source": [
    "# Convert data\n",
    "from sklearn.preprocessing import normalize\n",
    "\n",
    "cluster0_df = pd.DataFrame.from_dict(cluster0_dict).transpose()\n",
    "cluster0_df = cluster0_df.replace(np.nan,0) \n",
    "tfidf_df = pd.DataFrame.from_dict(tfidf_dict).transpose()\n",
    "tfidf_df = tfidf_df.replace(np.nan,0) \n",
    "\n",
    "cluster0_mat = scipy.sparse.csr_matrix(cluster0_df.values)\n",
    "tfidf_mat = normalize(scipy.sparse.csr_matrix(tfidf_df.values))\n",
    "# Dense array\n",
    "tfidf_arr = tfidf_mat.toarray()\n",
    "\n",
    "print(len(tfidf_df))\n",
    "# We have 15902 obs\n",
    "# Want avg of 10-15 obs a cluster -> n = 1060-1590\n",
    "# Test some points between the two \n"
   ]
  },
  {
   "cell_type": "code",
   "execution_count": 381,
   "metadata": {},
   "outputs": [],
   "source": [
    "# Test if code works with a small subsample of the data\n",
    "#tfidf_df = tfidf_df[0:100]\n",
    "#tfidf_mat = tfidf_mat[0:100]\n",
    "#tfidf_arr = tfidf_arr[0:100, :]"
   ]
  },
  {
   "cell_type": "code",
   "execution_count": 382,
   "metadata": {},
   "outputs": [],
   "source": [
    "# Function for cluster centers\n",
    "\n",
    "def compute_centers(data, labels):\n",
    "    n = data.shape[0]\n",
    "    k = max(labels)\n",
    "    sums = np.zeros((k+1, data.shape[1]))\n",
    "    counts = np.zeros((k+1, data.shape[1]))\n",
    "    for i in range(n):\n",
    "        j = labels[i]\n",
    "        sums[j] += data[i]\n",
    "        counts[j] += np.ones(data.shape[1])\n",
    "    centers = sums / counts\n",
    "    return centers\n",
    "\n",
    "# Function for heterogeneity\n",
    "\n",
    "def compute_heterogeneity(data, labels, centers):\n",
    "    label_centers = np.array([centers[i] for i in labels])\n",
    "    distance = (data - label_centers)**2\n",
    "    return np.sum(distance)\n",
    "\n",
    "# Plot heterogeneity, adopted from HW3\n",
    "def plot_heterogeneity(k_list, heterogeneity):\n",
    "    plt.figure(figsize=(7,4))\n",
    "    plt.plot(k_list, heterogeneity,  marker='o')\n",
    "    plt.xlabel('Number of Clusters')\n",
    "    plt.ylabel('Heterogeneity')\n",
    "    plt.title('Heterogeneity of Clustering')\n",
    "    plt.rcParams.update({'font.size': 12})\n",
    "    plt.tight_layout()\n",
    "    \n",
    "# Plot silhouette score\n",
    "def plot_score(k_list, score):\n",
    "    plt.figure(figsize=(7,4))\n",
    "    plt.plot(k_list, score,  marker='o')\n",
    "    plt.xlabel('Number of Clusters')\n",
    "    plt.ylabel('Silhouette Score')\n",
    "    plt.title('Silhouette Score of Clustering')\n",
    "    plt.rcParams.update({'font.size': 12})\n",
    "    plt.tight_layout()\n",
    "    \n",
    "def size_distribution(labels_list, k_list):\n",
    "    stats = {'k':  k_list, 'min': [], 'max': [],\n",
    "             'q5': [], 'q10': [], 'q25': [], 'q50': [], 'q75': [], 'q90': [], 'q95': []}\n",
    "    for labels in labels_list:\n",
    "        unique, counts = np.unique(labels, return_counts=True)\n",
    "        stats['min'].append(np.min(counts))\n",
    "        stats['max'].append(np.max(counts))\n",
    "        stats['q5'].append(np.quantile(counts, 0.05))\n",
    "        stats['q10'].append(np.quantile(counts, 0.1))\n",
    "        stats['q25'].append(np.quantile(counts, 0.25))\n",
    "        stats['q50'].append(np.quantile(counts, 0.5))\n",
    "        stats['q75'].append(np.quantile(counts, 0.75))\n",
    "        stats['q90'].append(np.quantile(counts, 0.9))\n",
    "        stats['q95'].append(np.quantile(counts, 0.95))\n",
    "    stats = pd.DataFrame(stats)\n",
    "    return stats\n",
    "    \n",
    "# Plot cluster size distribution\n",
    "def plot_size(counts, model_name):\n",
    "    plt.figure(figsize=(7,4))\n",
    "    plt.hist(counts, bins=20)\n",
    "    plt.xlabel('Cluster Size')\n",
    "    plt.ylabel('Count')\n",
    "    plt.title(model_name + ' Cluster Size Distribution')\n",
    "    plt.rcParams.update({'font.size': 12})\n",
    "    plt.tight_layout()"
   ]
  },
  {
   "cell_type": "code",
   "execution_count": 11,
   "metadata": {},
   "outputs": [
    {
     "name": "stdout",
     "output_type": "stream",
     "text": [
      "Time: 4387.238900184631\n"
     ]
    }
   ],
   "source": [
    "# For k-means, use k = 1680\n",
    "\n",
    "from sklearn.cluster import KMeans\n",
    "import time\n",
    "\n",
    "start = time.time()\n",
    "kmeans = KMeans(n_clusters=1680, init='k-means++').fit(tfidf_mat)\n",
    "#kmeans = KMeans(n_clusters=10, init='k-means++').fit(tfidf_mat)\n",
    "print(f'Time: {time.time() - start}')"
   ]
  },
  {
   "cell_type": "code",
   "execution_count": null,
   "metadata": {},
   "outputs": [],
   "source": [
    "km_labels = kmeans.labels_\n",
    "km_centers = kmeans.cluster_centers_"
   ]
  },
  {
   "cell_type": "code",
   "execution_count": 20,
   "metadata": {},
   "outputs": [
    {
     "name": "stdout",
     "output_type": "stream",
     "text": [
      "0.0351311945401143\n",
      "3.8237370427349973\n",
      "3.0401390905450367\n",
      "      k  min  max   q5  q10  q25  q50   q75   q90   q95\n",
      "0  1680    1  269  2.0  3.0  4.0  7.0  11.0  18.0  26.0\n",
      "5053\n",
      "44\n"
     ]
    },
    {
     "data": {
      "image/png": "[encoded data removed]",
      "text/plain": [
       "<Figure size 504x288 with 1 Axes>"
      ]
     },
     "metadata": {
      "needs_background": "light"
     },
     "output_type": "display_data"
    },
    {
     "data": {
      "image/png": "[encoded data removed]",
      "text/plain": [
       "<Figure size 504x288 with 1 Axes>"
      ]
     },
     "metadata": {
      "needs_background": "light"
     },
     "output_type": "display_data"
    }
   ],
   "source": [
    "# Plot cluster size distribution and then distribution without outliers\n",
    "from sklearn.metrics import  silhouette_score, calinski_harabasz_score, davies_bouldin_score\n",
    "km_score = silhouette_score(tfidf_mat, km_labels, metric='euclidean')\n",
    "print(km_score)\n",
    "print(calinski_harabasz_score(tfidf_arr, km_labels))\n",
    "print(davies_bouldin_score(tfidf_arr, km_labels))\n",
    "print(size_distribution([km_labels], [1680]))\n",
    "\n",
    "_, km_counts = np.unique(km_labels, return_counts=True)\n",
    "plot_size(km_counts, \"K Means\")\n",
    "km_counts_trimmed = km_counts[km_counts<20]\n",
    "plot_size(km_counts_trimmed, \"K Means (Trimmed)\")\n",
    "print(km_counts[km_counts>=20].sum())\n",
    "print(km_counts[km_counts==1].sum())"
   ]
  },
  {
   "cell_type": "code",
   "execution_count": 13,
   "metadata": {},
   "outputs": [
    {
     "name": "stdout",
     "output_type": "stream",
     "text": [
      "Time: 1534.5793969631195\n"
     ]
    }
   ],
   "source": [
    "# For hca use avg linkage and k = 1750\n",
    "\n",
    "from sklearn.cluster import AgglomerativeClustering\n",
    "import time\n",
    "\n",
    "start = time.time()\n",
    "hca = AgglomerativeClustering(n_clusters=1750, linkage=\"average\").fit(tfidf_arr)\n",
    "#hca = AgglomerativeClustering(n_clusters=10, linkage=\"average\").fit(tfidf_arr)\n",
    "print(f'Time: {time.time() - start}')"
   ]
  },
  {
   "cell_type": "code",
   "execution_count": null,
   "metadata": {},
   "outputs": [],
   "source": [
    "hca_labels = hca.labels_\n",
    "hca_centers = compute_centers(tfidf_arr, hca_labels)"
   ]
  },
  {
   "cell_type": "code",
   "execution_count": 21,
   "metadata": {},
   "outputs": [
    {
     "name": "stdout",
     "output_type": "stream",
     "text": [
      "0.053602314542802454\n",
      "      k  min  max   q5  q10  q25  q50  q75   q90    q95\n",
      "0  1750    1  453  2.0  2.0  3.0  5.0  9.0  17.0  24.55\n",
      "3.4320124693212604\n",
      "2.451593918748804\n",
      "6216\n",
      "30\n"
     ]
    },
    {
     "data": {
      "image/png": "[encoded data removed]",
      "text/plain": [
       "<Figure size 504x288 with 1 Axes>"
      ]
     },
     "metadata": {
      "needs_background": "light"
     },
     "output_type": "display_data"
    },
    {
     "data": {
      "image/png": "[encoded data removed]",
      "text/plain": [
       "<Figure size 504x288 with 1 Axes>"
      ]
     },
     "metadata": {
      "needs_background": "light"
     },
     "output_type": "display_data"
    }
   ],
   "source": [
    "from sklearn.metrics import silhouette_score, calinski_harabasz_score, davies_bouldin_score\n",
    "hca_score = silhouette_score(tfidf_arr, hca_labels, metric='euclidean')\n",
    "print(hca_score)\n",
    "print(size_distribution([hca_labels], [1750]))\n",
    "print(calinski_harabasz_score(tfidf_arr, hca_labels))\n",
    "print(davies_bouldin_score(tfidf_arr, hca_labels))\n",
    "\n",
    "_, hca_counts = np.unique(hca_labels, return_counts=True)\n",
    "plot_size(hca_counts, \"Hierarchical\")\n",
    "hca_counts_trimmed = hca_counts[hca_counts<20]\n",
    "plot_size(hca_counts_trimmed, \"Hierarchical (Trimmed)\")\n",
    "print(hca_counts[hca_counts>=20].sum())\n",
    "print(hca_counts[hca_counts==1].sum())"
   ]
  },
  {
   "cell_type": "code",
   "execution_count": 15,
   "metadata": {},
   "outputs": [],
   "source": [
    "# Save models\n",
    "import pickle\n",
    "\n",
    "filename = \"km_final\"\n",
    "with open(filename, \"wb\") as f:\n",
    "    pickle.dump(kmeans, f)\n",
    "filename = \"hca_final\"\n",
    "with open(filename, \"wb\") as f:\n",
    "    pickle.dump(hca, f)\n",
    "#with open(filename, \"rb\") as f:\n",
    "#    kmeans_dict=pickle.load(f)\n"
   ]
  },
  {
   "cell_type": "code",
   "execution_count": 383,
   "metadata": {},
   "outputs": [],
   "source": [
    "# Load models\n",
    "\n",
    "import pickle\n",
    "filename = \"km_final\"\n",
    "with open(filename, \"rb\") as f:\n",
    "    kmeans=pickle.load(f)\n",
    "    \n",
    "filename = \"hca_final\"\n",
    "with open(filename, \"rb\") as f:\n",
    "    hca=pickle.load(f)"
   ]
  },
  {
   "cell_type": "code",
   "execution_count": 384,
   "metadata": {},
   "outputs": [
    {
     "name": "stdout",
     "output_type": "stream",
     "text": [
      "tensor([ 367,  102,  177,  ..., 1089,  688, 1179])\n"
     ]
    }
   ],
   "source": [
    "# DEC - load labels\n",
    "import pickle\n",
    "filename = \"dec_final\"\n",
    "with open(filename, \"rb\") as f:\n",
    "    dec_labels=pickle.load(f)\n",
    "print(dec_labels)"
   ]
  },
  {
   "cell_type": "code",
   "execution_count": null,
   "metadata": {},
   "outputs": [],
   "source": [
    "dec_centers = compute_centers(tfidf_arr, dec_labels)\n",
    "dec_score = silhouette_score(tfidf_arr, dec_labels, metric='euclidean')"
   ]
  },
  {
   "cell_type": "code",
   "execution_count": 22,
   "metadata": {},
   "outputs": [
    {
     "name": "stdout",
     "output_type": "stream",
     "text": [
      "-0.05679904727912737\n",
      "1.0909284378652786\n",
      "4.888622292963917\n",
      "      k  min  max   q5  q10  q25   q50   q75   q90   q95\n",
      "0  1750    1   54  3.0  4.0  7.0  10.0  13.0  16.0  18.0\n",
      "930\n",
      "42\n"
     ]
    },
    {
     "data": {
      "image/png": "[encoded data removed]",
      "text/plain": [
       "<Figure size 504x288 with 1 Axes>"
      ]
     },
     "metadata": {
      "needs_background": "light"
     },
     "output_type": "display_data"
    },
    {
     "data": {
      "image/png": "[encoded data removed]",
      "text/plain": [
       "<Figure size 504x288 with 1 Axes>"
      ]
     },
     "metadata": {
      "needs_background": "light"
     },
     "output_type": "display_data"
    }
   ],
   "source": [
    "from sklearn.metrics import silhouette_score, calinski_harabasz_score, davies_bouldin_score\n",
    "print(dec_score)\n",
    "print(calinski_harabasz_score(tfidf_arr, dec_labels))\n",
    "print(davies_bouldin_score(tfidf_arr, dec_labels))\n",
    "print(size_distribution([dec_labels], [1750]))\n",
    "\n",
    "_, dec_counts = np.unique(dec_labels, return_counts=True)\n",
    "plot_size(dec_counts, \"DEC\")\n",
    "dec_counts_trimmed = dec_counts[dec_counts<20]\n",
    "plot_size(dec_counts_trimmed, \"DEC (Trimmed)\")\n",
    "print(dec_counts[dec_counts>=20].sum())\n",
    "print(dec_counts[dec_counts==1].sum())\n"
   ]
  },
  {
   "cell_type": "code",
   "execution_count": 385,
   "metadata": {},
   "outputs": [],
   "source": [
    "# Recommender function\n",
    "# Input: index\n",
    "# For cluster methods, locates cluster item is in\n",
    "# For content-based, finds closest by cosine_similarity\n",
    "# type is km, hca, dec, cs\n",
    "\n",
    "# Use for final model evaluation\n",
    "\n",
    "from sklearn.metrics.pairwise import cosine_similarity, euclidean_distances\n",
    "from sklearn.feature_selection import r_regression\n",
    "\n",
    "def recommend(index, dictionary, n_words, method, df, array,  labels=None, n_articles=10):\n",
    "    article_name = df.index.values[index]\n",
    "    print(\"Recommending articles similar to:\", article_name)\n",
    "    highest_tfidf(index, df, dictionary, n_words)\n",
    "    print('=' * 90)\n",
    "    \n",
    "    if method == 'cs':\n",
    "        similarities = cosine_similarity(tfidf_arr[index].reshape(1, -1), tfidf_arr)\n",
    "        sorted_indices = (-similarities).argsort().flatten()[1:(n_articles+1)]\n",
    "    else:\n",
    "        # Get indices of articles in the same clusters\n",
    "        article = array[index]\n",
    "        article = article.reshape(1, article.shape[0])\n",
    "        cluster = labels[index]\n",
    "        indices = np.argwhere(labels==cluster)\n",
    "        indices = indices.reshape(indices.shape[0])\n",
    "        recommended = tfidf_arr[indices]\n",
    "        # Sort by euclidean distance \n",
    "        distances = euclidean_distances(article, recommended)\n",
    "        #distance_indices = distances.argsort()[0][1:min(n_articles+1, len(indices))]\n",
    "        distance_indices = distances.argsort()[0][1:]\n",
    "        sorted_indices = indices[distance_indices]\n",
    "\n",
    "    recommended = df.iloc[sorted_indices,:]\n",
    "    recommended_names = recommended.index.values\n",
    "    for i in range(len(recommended)):\n",
    "        print(i+1, '. ', recommended_names[i], sep='')\n",
    "        highest_tfidf(sorted_indices[i], df, dictionary, n_words)\n",
    "        print('=' * 90)\n",
    "    if method in ('km', 'hca', 'dec'):\n",
    "        print(\"Note: Full cluster size is\", len(indices))\n",
    "\n",
    "# Print words with highest tf-idf\n",
    "def highest_tfidf(index, df, dictionary, n):\n",
    "    tfidf = df.iloc[index]\n",
    "    largest = tfidf.nlargest(n)\n",
    "    codes = largest.index.values\n",
    "    words_tfidf = ''\n",
    "    for i in range(len(largest)):\n",
    "        words_tfidf = words_tfidf +  dictionary[codes[i]] + ': ' + str(round(largest.iloc[i], 2)) + ', '\n",
    "    print(words_tfidf[:-2])\n",
    "                                        "
   ]
  },
  {
   "cell_type": "code",
   "execution_count": 398,
   "metadata": {},
   "outputs": [],
   "source": [
    "index = 0\n",
    "n_words = 6"
   ]
  },
  {
   "cell_type": "code",
   "execution_count": 399,
   "metadata": {},
   "outputs": [
    {
     "name": "stdout",
     "output_type": "stream",
     "text": [
      "Recommending articles similar to: ronnyreich\n",
      "reich: 6.15, discoveries: 2.71, studied: 2.23, mount: 1.94, ramat: 1.87, snyder: 1.7\n",
      "==========================================================================================\n",
      "1. corpusinscriptionumlatinarum\n",
      "inscriptions: 5.61, inscription: 2.25, original: 1.2, published: 1.0, indices: 0.99, continues: 0.96\n",
      "==========================================================================================\n",
      "2. magnusolsen\n",
      "inscriptions: 5.61, olsen: 5.33, scholars: 2.07, icelandic: 1.61, interpreting: 1.56, falcon: 1.46\n",
      "==========================================================================================\n",
      "3. masonhammond\n",
      "harvards: 7.19, greek: 3.68, inscriptions: 2.81, mason: 2.57, monarchy: 2.5, contributing: 2.38\n",
      "==========================================================================================\n",
      "4. filossenoluzzatto\n",
      "inscriptions: 5.61, philological: 3.86, deciphered: 3.74, mastered: 3.34, premature: 3.15, happening: 2.81\n",
      "==========================================================================================\n",
      "5. amorgos\n",
      "ancient: 3.35, tombs: 2.0, inscriptions: 1.87, situated: 1.24, ionian: 1.16, richter: 1.1\n",
      "==========================================================================================\n",
      "6. hargsbrorunicinscriptions\n",
      "inscriptions: 5.61, bro: 4.73, inscription: 4.19, strongman: 1.58, peculiarity: 1.55, sons: 1.37\n",
      "==========================================================================================\n",
      "7. lacunamanuscripts\n",
      "weathered: 7.88, nouns: 7.11, grams: 7.04, textual: 6.58, inscriptions: 5.61, interpretations: 5.55\n",
      "==========================================================================================\n",
      "8. reitia\n",
      "offerings: 5.48, este: 3.86, dedicating: 3.55, juno: 3.36, marcel: 3.03, inscriptions: 2.81\n",
      "==========================================================================================\n",
      "9. corcuduibne\n",
      "druid: 7.37, curse: 6.04, inscriptions: 5.61, distant: 4.75, belonged: 4.56, legendary: 4.4\n",
      "==========================================================================================\n",
      "10. freilaubersheimfibula\n",
      "inscription: 5.24, singular: 2.59, reads: 1.64, person: 1.05, frisian: 0.88, second: 0.83\n",
      "==========================================================================================\n",
      "Note: Full cluster size is 11\n"
     ]
    }
   ],
   "source": [
    "recommend(index, dictionary, n_words, 'km', tfidf_df, tfidf_arr, km_labels)"
   ]
  },
  {
   "cell_type": "code",
   "execution_count": 400,
   "metadata": {},
   "outputs": [
    {
     "name": "stdout",
     "output_type": "stream",
     "text": [
      "Recommending articles similar to: ronnyreich\n",
      "reich: 6.15, discoveries: 2.71, studied: 2.23, mount: 1.94, ramat: 1.87, snyder: 1.7\n",
      "==========================================================================================\n",
      "1. ottoweidinger\n",
      "reich: 6.15, dachau: 4.73, battalion: 3.79, unit: 2.57, division: 2.19, command: 2.0\n",
      "==========================================================================================\n",
      "2. nsdapao\n",
      "reich: 2.63, party: 2.63, paraguay: 1.77, comrades: 1.69, abroad: 1.19, betterment: 1.08\n",
      "==========================================================================================\n",
      "3. hanserichvoss\n",
      "bunker: 6.34, reich: 6.15, joseph: 3.52, suicide: 2.96, wounded: 2.73, accompanied: 2.61\n",
      "==========================================================================================\n",
      "4. walterkrgerssofficer\n",
      "latvian: 3.64, wehrmacht: 3.48, command: 3.34, reich: 3.07, division: 2.74, voluntary: 2.49\n",
      "==========================================================================================\n",
      "5. fichtebunker\n",
      "bunker: 5.07, berlins: 4.37, cupola: 2.88, building: 2.4, residences: 2.21, lighting: 2.01\n",
      "==========================================================================================\n",
      "6. dora1\n",
      "bunker: 6.34, todt: 3.94, thick: 2.29, organisation: 2.05, tugboats: 1.97, wall: 1.8\n",
      "==========================================================================================\n",
      "Note: Full cluster size is 7\n"
     ]
    }
   ],
   "source": [
    "recommend(index, dictionary, n_words, 'hca', tfidf_df, tfidf_arr, hca_labels)"
   ]
  },
  {
   "cell_type": "code",
   "execution_count": 401,
   "metadata": {
    "scrolled": true
   },
   "outputs": [
    {
     "name": "stdout",
     "output_type": "stream",
     "text": [
      "Recommending articles similar to: ronnyreich\n",
      "reich: 6.15, discoveries: 2.71, studied: 2.23, mount: 1.94, ramat: 1.87, snyder: 1.7\n",
      "==========================================================================================\n",
      "1. sonning\n",
      "club: 2.62, rfc: 2.33, holme: 1.93, railway: 1.72, passengers: 1.64, house: 1.31\n",
      "==========================================================================================\n",
      "2. costperengagement\n",
      "engagement: 4.63, advertisers: 3.39, advertiser: 2.79, ads: 2.77, engages: 2.52, cpa: 2.42\n",
      "==========================================================================================\n",
      "3. ranideldeocampo\n",
      "fourtime: 7.28, assists: 5.26, possesses: 5.26, assembled: 4.73, impact: 3.65, seasons: 3.46\n",
      "==========================================================================================\n",
      "4. sashamitchell\n",
      "mitchell: 5.02, mitchells: 3.64, musketeers: 1.29, appearances: 1.2, garment: 1.08, weber: 0.99\n",
      "==========================================================================================\n",
      "5. thebangersisters\n",
      "lavinia: 7.73, vinnie: 5.26, daughters: 2.68, gogo: 2.58, retrieves: 2.49, neurotic: 2.46\n",
      "==========================================================================================\n",
      "6. pasargadbank\n",
      "tehran: 4.73, currently: 2.28, largest: 2.01, conglomerate: 1.56, bankers: 1.56, group: 1.41\n",
      "==========================================================================================\n",
      "7. tarheelsportsnetwork\n",
      "basketball: 4.01, charlotte: 2.44, longtime: 1.53, station: 1.31, affiliates: 0.99, airs: 0.95\n",
      "==========================================================================================\n",
      "8. danieljanzen\n",
      "habitat: 4.74, pastures: 4.39, integrate: 3.82, puerto: 3.33, biology: 3.31, natural: 2.94\n",
      "==========================================================================================\n",
      "9. poplargrovenationalcemetery\n",
      "soldiers: 3.64, nps: 3.09, corps: 2.36, graves: 2.13, befell: 1.52, campground: 1.39\n",
      "==========================================================================================\n",
      "10. richardwoodman17841859\n",
      "augusta: 5.76, lucky: 5.15, mitchell: 5.02, charlotte: 4.87, portrait: 4.84, exhibited: 4.75\n",
      "==========================================================================================\n",
      "Note: Full cluster size is 11\n"
     ]
    }
   ],
   "source": [
    "recommend(index, dictionary, n_words, 'dec', tfidf_df, tfidf_arr, dec_labels.numpy())"
   ]
  },
  {
   "cell_type": "code",
   "execution_count": 402,
   "metadata": {},
   "outputs": [
    {
     "name": "stdout",
     "output_type": "stream",
     "text": [
      "Recommending articles similar to: ronnyreich\n",
      "reich: 6.15, discoveries: 2.71, studied: 2.23, mount: 1.94, ramat: 1.87, snyder: 1.7\n",
      "==========================================================================================\n",
      "1. ottoweidinger\n",
      "reich: 6.15, dachau: 4.73, battalion: 3.79, unit: 2.57, division: 2.19, command: 2.0\n",
      "==========================================================================================\n",
      "2. nsdapao\n",
      "reich: 2.63, party: 2.63, paraguay: 1.77, comrades: 1.69, abroad: 1.19, betterment: 1.08\n",
      "==========================================================================================\n",
      "3. hanserichvoss\n",
      "bunker: 6.34, reich: 6.15, joseph: 3.52, suicide: 2.96, wounded: 2.73, accompanied: 2.61\n",
      "==========================================================================================\n",
      "4. walterkrgerssofficer\n",
      "latvian: 3.64, wehrmacht: 3.48, command: 3.34, reich: 3.07, division: 2.74, voluntary: 2.49\n",
      "==========================================================================================\n",
      "5. saulfriedlnder\n",
      "antisemitism: 6.73, jews: 4.54, normal: 3.6, reich: 3.07, sees: 2.15, argued: 1.99\n",
      "==========================================================================================\n",
      "6. ahnenerbe\n",
      "expedition: 4.43, walther: 2.46, ancient: 2.45, artifacts: 2.4, reich: 1.64, hans: 1.64\n",
      "==========================================================================================\n",
      "7. morizvonkuffner\n",
      "von: 4.07, ignaz: 3.64, mont: 3.36, austrian: 2.38, austria: 2.14, reich: 2.05\n",
      "==========================================================================================\n",
      "8. pfennig\n",
      "euro: 4.0, unicode: 3.69, silver: 3.62, coating: 3.15, reich: 3.07, penny: 3.06\n",
      "==========================================================================================\n",
      "9. 554calibermark42gun\n",
      "mount: 3.88, barrel: 1.21, fires: 1.11, usages: 0.83, rate: 0.78, projectiles: 0.75\n",
      "==========================================================================================\n",
      "10. mounttahomahighschool\n",
      "mount: 3.88, rainier: 1.5, tacoma: 1.37, students: 1.36, campus: 0.76, soar: 0.75\n",
      "==========================================================================================\n"
     ]
    }
   ],
   "source": [
    "recommend(index, dictionary, n_words, 'cs', tfidf_df, tfidf_arr)"
   ]
  },
  {
   "cell_type": "code",
   "execution_count": null,
   "metadata": {},
   "outputs": [],
   "source": []
  },
  {
   "cell_type": "code",
   "execution_count": null,
   "metadata": {},
   "outputs": [],
   "source": []
  }
 ],
 "metadata": {
  "kernelspec": {
   "display_name": "Python 3",
   "language": "python",
   "name": "python3"
  },
  "language_info": {
   "codemirror_mode": {
    "name": "ipython",
    "version": 3
   },
   "file_extension": ".py",
   "mimetype": "text/x-python",
   "name": "python",
   "nbconvert_exporter": "python",
   "pygments_lexer": "ipython3",
   "version": "3.7.3"
  }
 },
 "nbformat": 4,
 "nbformat_minor": 5
}
